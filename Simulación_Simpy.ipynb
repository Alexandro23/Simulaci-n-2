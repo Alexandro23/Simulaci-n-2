{
  "nbformat": 4,
  "nbformat_minor": 0,
  "metadata": {
    "colab": {
      "provenance": [],
      "authorship_tag": "ABX9TyOY0LkEA/v2x9Egzen6Ldi3",
      "include_colab_link": true
    },
    "kernelspec": {
      "name": "python3",
      "display_name": "Python 3"
    },
    "language_info": {
      "name": "python"
    }
  },
  "cells": [
    {
      "cell_type": "markdown",
      "metadata": {
        "id": "view-in-github",
        "colab_type": "text"
      },
      "source": [
        "<a href=\"https://colab.research.google.com/github/Alexandro23/Simulaci-n-2/blob/main/Simulaci%C3%B3n_Simpy.ipynb\" target=\"_parent\"><img src=\"https://colab.research.google.com/assets/colab-badge.svg\" alt=\"Open In Colab\"/></a>"
      ]
    },
    {
      "cell_type": "markdown",
      "source": [
        "\n",
        "### ALEJALDRE GRANADOS MARLON ALEXANDRO\n",
        "\n",
        "# **SIMULACIÓN**\n",
        "\n",
        "\n",
        "\n",
        "\n",
        "## INVENTORY SYSTEM DISCRETE EVENT SIMULATION IN PYTHON (PROCESS INTERACTION)\n",
        "\n"
      ],
      "metadata": {
        "id": "5JzdfsjUcCuJ"
      }
    },
    {
      "cell_type": "code",
      "execution_count": 2,
      "metadata": {
        "colab": {
          "base_uri": "https://localhost:8080/",
          "height": 1000
        },
        "id": "iZtLc4WgXbFH",
        "outputId": "be80cfc9-889c-4605-d5bb-1495e109b0f2"
      },
      "outputs": [
        {
          "output_type": "stream",
          "name": "stdout",
          "text": [
            "Looking in indexes: https://pypi.org/simple, https://us-python.pkg.dev/colab-wheels/public/simple/\n",
            "Collecting simpy\n",
            "  Downloading simpy-4.0.1-py2.py3-none-any.whl (29 kB)\n",
            "Installing collected packages: simpy\n",
            "Successfully installed simpy-4.0.1\n",
            "0.16 sold 2 \n",
            "0.53 sold 4 \n",
            "0.69 sold 2 \n",
            "0.88 sold 3 \n",
            "0.88 placed order for11\n",
            "1.00 sold 3 \n",
            "1.01 sold 1 \n",
            "1.11 sold 3 \n",
            "1.44 sold 3 \n",
            "1.61 sold 2 \n",
            "1.97 sold 1 \n",
            "1.99 sold 4 \n",
            "2.08 sold  0 (put of stock)\n",
            "2.38 sold  0 (put of stock)\n",
            "2.79 sold  0 (put of stock)\n",
            "2.883937received order,11 in inventory\n",
            "3.11 sold 4 \n",
            "3.11 placed order for23\n",
            "3.26 sold 4 \n",
            "3.28 sold 1 \n",
            "3.46 sold  0 (put of stock)\n",
            "4.04 sold  0 (put of stock)\n",
            "4.06 sold  0 (put of stock)\n",
            "4.12 sold  0 (put of stock)\n",
            "4.39 sold  0 (put of stock)\n",
            "4.56 sold  0 (put of stock)\n",
            "4.63 sold  0 (put of stock)\n",
            "4.82 sold  0 (put of stock)\n",
            "4.92 sold  0 (put of stock)\n"
          ]
        },
        {
          "output_type": "execute_result",
          "data": {
            "text/plain": [
              "Text(0, 0.5, 'Inventory level')"
            ]
          },
          "metadata": {},
          "execution_count": 2
        },
        {
          "output_type": "display_data",
          "data": {
            "text/plain": [
              "<Figure size 640x480 with 1 Axes>"
            ],
            "image/png": "[encoded data removed]"
          },
          "metadata": {}
        }
      ],
      "source": [
        "'''\n",
        "Inventarios, Simulacion de sistemas discretos.\n",
        "'''\n",
        "\n",
        "!pip install simpy\n",
        "\n",
        "import simpy\n",
        "import numpy as np\n",
        "\n",
        "def werehouse_run(env, order_cutoff, order_target):\n",
        "  global inventory, balance, num_ordered\n",
        "\n",
        "  inventory = order_target\n",
        "  balance = 0.0\n",
        "  num_ordered = 0\n",
        "\n",
        "  while True:\n",
        "    interarrival =generate_interarrival()\n",
        "    yield env.timeout(interarrival)\n",
        "    balance-= inventory*2*interarrival\n",
        "    demand = generate_demand()\n",
        "    if demand < inventory:\n",
        "      balance += 100*demand\n",
        "      inventory -= demand\n",
        "      print('{:.2f} sold {} '.format(env.now, demand))\n",
        "    else:\n",
        "      balance += 100*inventory\n",
        "      inventory = 0\n",
        "      print('{:.2f} sold  {} (put of stock)'.format(env.now, inventory))\n",
        "\n",
        "    if inventory < order_cutoff and num_ordered == 0:\n",
        "      env.process(handle_order(env, order_target))\n",
        "\n",
        "def handle_order(env, order_target):\n",
        "  global inventory, balance, num_ordered\n",
        "\n",
        "\n",
        "  num_ordered = order_target - inventory\n",
        "  print('{:.2f} placed order for{}'.format(env.now, num_ordered))\n",
        "  balance -= 50*num_ordered\n",
        "  yield env.timeout(2.0)\n",
        "  inventory += num_ordered\n",
        "  num_ordered = 0\n",
        "  print('{:02f}received order,{} in inventory'.format(env.now, inventory))\n",
        "\n",
        "\n",
        "def generate_interarrival():\n",
        "  return np.random.exponential(1./5)\n",
        "\n",
        "def generate_demand():\n",
        "  return np.random.randint(1,5)\n",
        "\n",
        "obs_time = []\n",
        "inventory_level = []\n",
        "\n",
        "def observe(env):\n",
        "  global inventory\n",
        "\n",
        "  while True:\n",
        "    obs_time.append(env.now)\n",
        "    inventory_level.append(inventory)\n",
        "    yield env.timeout(0.1)\n",
        "\n",
        "np.random.seed(0)\n",
        "\n",
        "env= simpy.Environment()\n",
        "env.process(werehouse_run(env,20,30))\n",
        "env.process(observe(env))\n",
        "\n",
        "\n",
        "env.run(until=5.0)\n",
        "\n",
        "import matplotlib.pyplot as plt\n",
        "\n",
        "plt.figure()\n",
        "plt.step(obs_time, inventory_level, where ='post')\n",
        "plt.xlabel('Simulation time (days)')\n",
        "plt.ylabel('Inventory level')\n",
        "\n"
      ]
    },
    {
      "cell_type": "markdown",
      "source": [
        "Primeramente notamos que necesitamos revisar la versión de Python que Colab esté ocupando, para después si esto es lo que no está fallando, podremos a instalar directamente en el cuaderno ```simpy```.\n",
        "\n",
        "```python\n",
        "\n",
        "!python --version\n",
        "\n",
        "#out Python 3.10.12\n",
        "\n",
        "\n",
        "# si esto no arregla la salida, aplicamos\n",
        "!pip install python\n",
        "```"
      ],
      "metadata": {
        "id": "jrZzk6Ucyo7x"
      }
    },
    {
      "cell_type": "markdown",
      "source": [
        "# Explicación del Código\n",
        "\n",
        "* Se instala la biblioteca \"simpy\" utilizando el comando !pip install simpy. Esto asegura que la biblioteca SimPy esté instalada en el entorno.\n",
        "\n",
        "* Se importan las bibliotecas necesarias, incluyendo simpy, numpy y matplotlib.\n",
        "\n",
        "* Se define una función llamada werehouse_run que representa la simulación de un sistema de inventario. Esta función se utiliza para simular el comportamiento de un almacén. Toma tres parámetros: env (el entorno de SimPy), order_cutoff (el punto de reposición del inventario) y order_target (el nivel objetivo del inventario).\n",
        "\n",
        "* Se inicializan las variables globales inventory, balance y num_ordered.\n",
        "\n",
        "* Dentro de un bucle while True, se genera un tiempo de interllegada utilizando la función generate_interarrival() y se espera ese tiempo utilizando yield env.timeout(interarrival).\n",
        "\n",
        "* Se actualiza el saldo (balance) restando el costo de mantener el inventario durante el tiempo de interllegada.\n",
        "\n",
        "* Se genera una demanda utilizando la función generate_demand().\n",
        "\n",
        "* Si la demanda es menor que el inventario, se actualiza el saldo sumando el ingreso por la venta y se reduce el inventario en función de la demanda. Se imprime un mensaje indicando la cantidad vendida.\n",
        "\n",
        "* Si la demanda es mayor o igual al inventario, se actualiza el saldo sumando el ingreso por la venta y se establece el inventario en cero. Se imprime un mensaje indicando que el inventario está agotado.\n",
        "\n",
        "* Si el inventario es menor al punto de reposición (order_cutoff) y no hay ningún pedido en curso (num_ordered == 0), se inicia el proceso handle_order() para realizar un pedido.\n",
        "\n",
        "* Se define la función handle_order que representa el proceso de manejo de un pedido. Toma el entorno (env) y el nivel objetivo del inventario (order_target) como parámetros.\n",
        "\n",
        "* Se actualiza num_ordered para reflejar la cantidad de productos que se deben pedir.\n",
        "\n",
        "* Se actualiza el saldo restando el costo de realizar el pedido.\n",
        "\n",
        "* Se espera un tiempo de 2.0 unidades utilizando yield env.timeout(2.0) para simular el tiempo que lleva recibir el pedido.\n",
        "\n",
        "* Se actualiza el inventario agregando la cantidad pedida (num_ordered).\n",
        "\n",
        "* Se establece num_ordered en cero para indicar que no hay pedidos en curso.\n",
        "\n",
        "* Se define la función generate_interarrival() que devuelve un tiempo de interllegada generado de manera exponencial utilizando la biblioteca numpy.\n",
        "\n",
        "* Se define la función generate_demand() que genera una demanda aleatoria entre 1 y 5 utilizando la biblioteca numpy.\n",
        "\n",
        "* Se inicializan las listas obs_time y inventory_level para almacenar los datos de observación del tiempo y el nivel de inventario.\n",
        "\n",
        "* Se define la función observe que se utiliza para observar y registrar los datos del inventario durante la simulación.\n",
        "\n",
        "* Dentro de un bucle while True, se agrega el tiempo actual (env.now) a la lista obs_time y se agrega el nivel de inventario actual a la lista inventory_level.\n",
        "\n",
        "\n",
        "* Se espera un tiempo de 0.1 unidades utilizando yield env.timeout(0.1) para establecer el intervalo de observación.\n",
        "\n",
        "* Se establece la semilla aleatoria utilizando np.random.seed(0) para asegurar la reproducibilidad de los resultados.\n",
        "\n",
        "* Se crea un entorno de SimPy utilizando env = simpy.Environment().\n",
        "\n",
        "* Se inicia el proceso werehouse_run(env, 20, 30) para simular el sistema de inventario. Los valores 20 y 30 se utilizan como el punto de reposición (order_cutoff) y el nivel objetivo del inventario (order_target), respectivamente.\n",
        "\n",
        "* Se inicia el proceso observe(env) para observar y registrar los datos del inventario durante la simulación.\n",
        "\n",
        "* Se ejecuta la simulación utilizando env.run(until=5.0), lo que indica que la simulación se ejecutará hasta que el tiempo de simulación alcance 5.0 unidades.\n",
        "\n",
        "* Se importa la biblioteca matplotlib.pyplot como plt para generar una visualización gráfica de los resultados.\n",
        "\n",
        "* Se crea una figura utilizando plt.figure().\n",
        "\n",
        "* Se traza un gráfico de pasos utilizando plt.step(obs_time, inventory_level, where='post'), donde obs_time es el tiempo de observación y inventory_level es el nivel de inventario registrado.\n",
        "\n",
        "* Se añaden etiquetas de los ejes utilizando plt.xlabel() y plt.ylabel() para especificar los títulos de los ejes X e Y, respectivamente.\n",
        "\n",
        "* Se muestra el gráfico utilizando plt.show()."
      ],
      "metadata": {
        "id": "GMUG7rnl0K6M"
      }
    },
    {
      "cell_type": "code",
      "source": [],
      "metadata": {
        "id": "5sq1ThSuThS0"
      },
      "execution_count": null,
      "outputs": []
    }
  ]
}