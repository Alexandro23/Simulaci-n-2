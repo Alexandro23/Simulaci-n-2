{
  "nbformat": 4,
  "nbformat_minor": 0,
  "metadata": {
    "colab": {
      "provenance": [],
      "authorship_tag": "ABX9TyM9IqPgN9FCmUdmYqphDQSV",
      "include_colab_link": true
    },
    "kernelspec": {
      "name": "python3",
      "display_name": "Python 3"
    },
    "language_info": {
      "name": "python"
    }
  },
  "cells": [
    {
      "cell_type": "markdown",
      "metadata": {
        "id": "view-in-github",
        "colab_type": "text"
      },
      "source": [
        "<a href=\"https://colab.research.google.com/github/Alexandro23/Simulaci-n-2/blob/main/Examen_1.ipynb\" target=\"_parent\"><img src=\"https://colab.research.google.com/assets/colab-badge.svg\" alt=\"Open In Colab\"/></a>"
      ]
    },
    {
      "cell_type": "markdown",
      "source": [
        "---\n",
        "# **SIMULACIÓN II**\n",
        "----\n",
        "Alumno: Alejaldre Granados Marlon Alexandro\n",
        "----\n",
        "\n",
        "\n"
      ],
      "metadata": {
        "id": "jk6O3IXg2aKh"
      }
    },
    {
      "cell_type": "markdown",
      "source": [
        "---\n",
        "## Ejercicio 1\n",
        "---\n",
        "\n",
        "16. Dos personas han quedado citas en un determinado lugar. Ambas tienen la misma probabilidad de llegar al lugar de la cita en el intervalo de tiempo $[0,30]$.\n",
        "\n",
        "  Determinese la probabilidad de que el tiempo que una persona espera a la otra sea como máximo 10."
      ],
      "metadata": {
        "id": "qkYJRKtu24Gf"
      }
    },
    {
      "cell_type": "markdown",
      "source": [
        "## Solución Analitica"
      ],
      "metadata": {
        "id": "kUTtco3726yp"
      }
    },
    {
      "cell_type": "markdown",
      "source": [],
      "metadata": {
        "id": "w-R9cvkB3Ljv"
      }
    },
    {
      "cell_type": "markdown",
      "source": [
        "## Simulación"
      ],
      "metadata": {
        "id": "tO_TST7R3MTD"
      }
    },
    {
      "cell_type": "code",
      "source": [
        "import random\n",
        "\n",
        "# número de simulaciones\n",
        "n = 1000000\n",
        "\n",
        "\n",
        "count = 0\n",
        "\n",
        "for i in range(n):\n",
        "    # tiempo de llegada de la primera persona\n",
        "    t1 = random.uniform(0, 30)\n",
        "    # tiempo de llegada de la segunda persona\n",
        "    t2 = random.uniform(0, 30)\n",
        "    \n",
        "    # tiempo de espera\n",
        "    tiem_esp = abs(t2 - t1)\n",
        "    \n",
        "    if tiem_esp <= 10:\n",
        "        count += 1\n",
        "        \n",
        "# probabilidad de que el tiempo de espera sea como máximo 10 minutos\n",
        "p = count / n\n",
        "\n",
        "print(\"La probabilidad de que el tiempo de espera sea como máximo 10 minutos es:\", p)"
      ],
      "metadata": {
        "colab": {
          "base_uri": "https://localhost:8080/"
        },
        "id": "rH2JeZbV2qdh",
        "outputId": "d6d5f4d9-1dcc-41e0-99d1-534de084cdfa"
      },
      "execution_count": 1,
      "outputs": [
        {
          "output_type": "stream",
          "name": "stdout",
          "text": [
            "La probabilidad de que el tiempo de espera sea como máximo 10 minutos es: 0.555185\n"
          ]
        }
      ]
    },
    {
      "cell_type": "markdown",
      "source": [
        "---\n",
        "#Ejercicio 4\n",
        "---\n",
        "\n",
        "  17. El número de accidentes que se producen en una vía de circulación de una ciudad es, en promedio, de dos a la semana. Determinese:\n",
        "\n",
        "  a) Probabilidad de que no se registre ningún accidente en una semana determinada.\n",
        "\n",
        "  b) Probabilidad de que en un mes haya más de 5 accidentes."
      ],
      "metadata": {
        "id": "Sq_0WYHM4DJ7"
      }
    },
    {
      "cell_type": "markdown",
      "source": [
        "## Solución Analítica"
      ],
      "metadata": {
        "id": "tehNGqSu4Glv"
      }
    },
    {
      "cell_type": "markdown",
      "source": [],
      "metadata": {
        "id": "bBtQ9fOP4SyC"
      }
    },
    {
      "cell_type": "markdown",
      "source": [
        "## Simulación"
      ],
      "metadata": {
        "id": "dI1kseeI4R8D"
      }
    },
    {
      "cell_type": "code",
      "source": [
        "import numpy as np\n",
        "\n",
        "# Definir número de simulaciones\n",
        "num_simulaciones = 1000000\n",
        "\n",
        "# Definir tasa promedio de accidentes por semana\n",
        "lambda_accidentes = 2\n",
        "\n",
        "# Simulación para (a)\n",
        "no_accidentes = 0\n",
        "for i in range(num_simulaciones):\n",
        "    accidentes = np.random.poisson(lambda_accidentes)\n",
        "    if accidentes == 0:\n",
        "        no_accidentes += 1\n",
        "prob_a = no_accidentes / num_simulaciones\n",
        "\n",
        "# Simulación para (b)\n",
        "mas_de_5 = 0\n",
        "for i in range(num_simulaciones):\n",
        "    accidentes = 0\n",
        "    for j in range(4):\n",
        "        accidentes += np.random.poisson(lambda_accidentes)\n",
        "    if accidentes > 5:\n",
        "        mas_de_5 += 1\n",
        "prob_b = mas_de_5 / num_simulaciones\n",
        "\n",
        "# Imprimir resultados\n",
        "print(\"Probabilidad de no registrar ningún accidente en una semana: \", prob_a)\n",
        "print(\"Probabilidad de tener más de 5 accidentes en un mes: \", prob_b)"
      ],
      "metadata": {
        "colab": {
          "base_uri": "https://localhost:8080/"
        },
        "id": "IKHcN9mh4Fw6",
        "outputId": "b5468308-a28c-495f-bc57-a84c6b9d75a4"
      },
      "execution_count": 2,
      "outputs": [
        {
          "output_type": "stream",
          "name": "stdout",
          "text": [
            "Probabilidad de no registrar ningún accidente en una semana:  0.134946\n",
            "Probabilidad de tener más de 5 accidentes en un mes:  0.80893\n"
          ]
        }
      ]
    },
    {
      "cell_type": "code",
      "source": [],
      "metadata": {
        "id": "tfruxkoc4gnd"
      },
      "execution_count": null,
      "outputs": []
    }
  ]
}